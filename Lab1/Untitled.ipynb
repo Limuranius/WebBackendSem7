{
 "cells": [
  {
   "cell_type": "code",
   "execution_count": 7,
   "id": "a2eaf2e6-c7e7-4778-a325-8c8c3f27c431",
   "metadata": {},
   "outputs": [],
   "source": [
    "import sqlite3\n",
    "import pandas as pd\n",
    "\n",
    "con = sqlite3.connect(\"library.db\")\n",
    "cur = con.cursor()\n",
    "\n",
    "with open(\"library.sql\", encoding=\"utf-8\") as f:\n",
    "    cur.executescript(f.read())"
   ]
  },
  {
   "cell_type": "markdown",
   "id": "fe39053e-76dc-44a1-bf16-233fc851a5ba",
   "metadata": {},
   "source": [
    "# Задание 1\r\n",
    "Вывести книги, которые были взяты в библиотеке в октябре месяце. Указать фамилии читателей, которые их взяли \r\n",
    "а также дату, когда их взяли. Столбцы назвать Название, Читатель, Дата соответственно. Информацию отсортирова ь\r\n",
    "сначала по возрастанию даты, потом в алфавитном порядке по фамилиям читателей, и, наконец, по названиям к иг\r\n",
    "тоже в алфавитном порядке."
   ]
  },
  {
   "cell_type": "code",
   "execution_count": 13,
   "id": "0fdaf55e-3af7-4685-b404-f2cf6112742b",
   "metadata": {},
   "outputs": [
    {
     "name": "stdout",
     "output_type": "stream",
     "text": [
      "                    Название       Читатель        Дата\n",
      "0               Смерть поэта    Иванов М.С.  2020-10-05\n",
      "1             Собачье сердце    Иванов М.С.  2020-10-06\n",
      "2        Одноэтажная Америка    Петров Ф.С.  2020-10-06\n",
      "3      Этюд в багровых тонах    Петров Ф.С.  2020-10-06\n",
      "4         Мастер и Маргарита   Самарин С.С.  2020-10-08\n",
      "5   Записки о Шерлоке Холмсе   Туполев И.Д.  2020-10-08\n",
      "6            Золотой теленок    Петров Ф.С.  2020-10-09\n",
      "7   Записки о Шерлоке Холмсе   Федоров П.Р.  2020-10-09\n",
      "8               Смерть поэта   Туполев И.Д.  2020-10-13\n",
      "9                      Поэмы  Абрамова А.А.  2020-10-15\n",
      "10     Пуаро ведет следствие    Иванов М.С.  2020-10-15\n",
      "11        Скрюченный домишко    Иванов М.С.  2020-10-15\n",
      "12        Мастер и Маргарита   Туполев И.Д.  2020-10-15\n",
      "13         Пикник на обочине   Туполев И.Д.  2020-10-16\n",
      "14      Убийства по алфавиту    Петров Ф.С.  2020-10-17\n",
      "15         Трудно быть богом   Туполев И.Д.  2020-10-19\n",
      "16     Этюд в багровых тонах    Иванов М.С.  2020-10-20\n",
      "17                     Поэмы   Самарин С.С.  2020-10-21\n",
      "18       Таинственный остров   Самарин С.С.  2020-10-22\n",
      "19       Одноэтажная Америка   Федоров П.Р.  2020-10-23\n",
      "20     Пуаро ведет следствие   Туполев И.Д.  2020-10-24\n",
      "21         Трудно быть богом    Петров Ф.С.  2020-10-28\n",
      "22            Смерть на Ниле  Абрамова А.А.  2020-10-30\n",
      "23  Записки о Шерлоке Холмсе    Иванов М.С.  2020-10-30\n",
      "24            Затерянный мир   Самарин С.С.  2020-10-30\n"
     ]
    }
   ],
   "source": [
    "query = \"\"\"\n",
    "    SELECT book.title as Название, reader.reader_name as Читатель, book_reader.borrow_date as Дата\n",
    "    FROM book\n",
    "    JOIN book_reader USING(book_id)\n",
    "    JOIN reader USING(reader_id)\n",
    "    WHERE strftime(\"%m\", book_reader.borrow_date) = \"10\"\n",
    "    ORDER BY borrow_date ASC, reader_name ASC, title ASC\n",
    "\"\"\"\n",
    "df = pd.read_sql(query, con)\n",
    "print(df)"
   ]
  },
  {
   "cell_type": "markdown",
   "id": "cf3138ae-eb95-4554-a7a0-5bd6dc4e2c82",
   "metadata": {},
   "source": [
    "# Задание 2\n",
    "Определить статус каждого читателя. Вывести фамилию читателя и его статус. Если хотя бы одна книга была у читателя \"на руках\" более 3 недель, в столбец Статус занести \"Чёрный список\". Если читатель вовсе не брал пока книг в библиотеке присвоить ему статус \"Неактивный читатель\". Статус всех остальных читателей - \"Добросовестный читатель\"."
   ]
  },
  {
   "cell_type": "code",
   "execution_count": 14,
   "id": "1c079ed4-e5ad-4a64-ae40-9b82df987b89",
   "metadata": {},
   "outputs": [
    {
     "name": "stdout",
     "output_type": "stream",
     "text": [
      "        Читатель                   Статус\n",
      "0    Иванов М.С.            Чёрный список\n",
      "1    Петров Ф.С.            Чёрный список\n",
      "2   Федоров П.Р.            Чёрный список\n",
      "3  Абрамова А.А.  Добросовестный читатель\n",
      "4   Самарин С.С.            Чёрный список\n",
      "5   Туполев И.Д.            Чёрный список\n",
      "6   Баранов П.В.      Неактивный читатель\n"
     ]
    }
   ],
   "source": [
    "query = \"\"\"\n",
    "    SELECT \n",
    "        r1.reader_name AS Читатель,\n",
    "        CASE\n",
    "            WHEN NOT EXISTS (SELECT * FROM book_reader br1 WHERE r1.reader_id = br1.reader_id) THEN \"Неактивный читатель\"\n",
    "            WHEN EXISTS (SELECT * FROM book_reader br2 WHERE r1.reader_id = br2.reader_id AND \n",
    "                ((br2.return_date IS NULL AND JULIANDAY(\"now\") - JULIANDAY(br2.borrow_date) > 21) OR \n",
    "                 (br2.return_date IS NOT NULL AND JULIANDAY(br2.return_date) - JULIANDAY(br2.borrow_date) > 21))) \n",
    "                 THEN \"Чёрный список\" \n",
    "            ELSE \"Добросовестный читатель\"\n",
    "        END AS Статус\n",
    "    FROM reader r1 \n",
    "\"\"\"\n",
    "df = pd.read_sql(query, con)\n",
    "print(df)"
   ]
  },
  {
   "cell_type": "markdown",
   "id": "b6ec82ed-8cd7-48d9-8a2d-89f2065e2480",
   "metadata": {},
   "source": [
    "# Задание 3\n",
    "Найти самые популярные жанры (книги, относящиеся к которым чаще всего брали читатели) и вывести все книги, которые относятся к этим жанрам."
   ]
  },
  {
   "cell_type": "code",
   "execution_count": 26,
   "id": "7188a5f5-1b9c-46ab-b82c-46ec7bae44bc",
   "metadata": {},
   "outputs": [
    {
     "name": "stdout",
     "output_type": "stream",
     "text": [
      "                        Книга      Жанр\n",
      "0       Пуаро ведет следствие  Детектив\n",
      "1              Смерть на Ниле  Детектив\n",
      "2        Убийства по алфавиту  Детектив\n",
      "3     Загадочное происшествие  Детектив\n",
      "4       Этюд в багровых тонах  Детектив\n",
      "5  Приключения Шерлока Холмса  Детектив\n",
      "6    Записки о Шерлоке Холмсе  Детектив\n",
      "7          Скрюченный домишко  Детектив\n"
     ]
    }
   ],
   "source": [
    "query = \"\"\"\n",
    "    WITH top_genre_count(count)\n",
    "    AS (\n",
    "        SELECT COUNT(genre.genre_name) as Взяли\n",
    "        FROM genre\n",
    "        JOIN book USING (genre_id)\n",
    "        JOIN book_reader USING (book_id)\n",
    "        GROUP BY genre.genre_name\n",
    "        ORDER BY Взяли DESC\n",
    "        LIMIT 1\n",
    "    ), most_popular_genres(genre_id)\n",
    "    AS (\n",
    "        SELECT genre_id\n",
    "        FROM genre, top_genre_count\n",
    "        JOIN book USING (genre_id)\n",
    "        JOIN book_reader USING (book_id)\n",
    "        GROUP BY genre.genre_name\n",
    "        HAVING COUNT(*) = top_genre_count.count\n",
    "    )\n",
    "    SELECT book.title AS Книга, genre.genre_name AS Жанр\n",
    "    FROM book \n",
    "    JOIN genre USING (genre_id)\n",
    "    WHERE book.genre_id in most_popular_genres\n",
    "\"\"\"\n",
    "df = pd.read_sql(query, con)\n",
    "print(df)"
   ]
  },
  {
   "cell_type": "markdown",
   "id": "3acfeea9-4e68-4fa2-91ba-b09dc8ee8001",
   "metadata": {},
   "source": [
    "# Задание 4\n",
    "Читатель Самарин С.С. возвращает последнюю взятую книгу в библиотеку. Необходимо актуализировать базу данных:\n",
    "    - занести текущую дату в столбец return_date соответствующей записи таблицы book_reader;\n",
    "    - увеличить в таблице book на 1 количество доступных книг (available_numbers) для сдаваемой книги.\n",
    "Пояснение. В запросах использовать Фамилии И.О. читателя, а не его id."
   ]
  },
  {
   "cell_type": "code",
   "execution_count": null,
   "id": "f380d2da-39f0-4f43-a257-c83e712b1cb5",
   "metadata": {},
   "outputs": [],
   "source": [
    "reader_name = \"Самарин С.С.\"\n",
    "\n",
    "# Получаем id книги, взятой последней\n",
    "cur.execute(\"\"\"\n",
    "    SELECT book_reader_id, book_id\n",
    "    FROM book_reader\n",
    "    JOIN reader USING (reader_id)\n",
    "    WHERE reader_name = :reader_name AND book_reader.return_date IS NULL\n",
    "    ORDER BY borrow_date DESC\n",
    "    LIMIT 1\n",
    "\"\"\", {\"reader_name\": reader_name})\n",
    "book_reader_id, book_id = cur.fetchone()\n",
    "\n",
    "# Заносим дату в столбец return date\n",
    "cur.execute(\"\"\"\n",
    "    UPDATE book_reader \n",
    "    SET return_date = DATE(\"now\")\n",
    "    WHERE book_reader_id = :book_reader_id\n",
    "\"\"\", {\"book_reader_id\": book_reader_id})\n",
    "\n",
    "# Увеличить счётчик книги\n",
    "cur.execute(\"\"\"\n",
    "    UPDATE book\n",
    "    SET available_numbers = available_numbers + 1\n",
    "    WHERE book_id = :book_id\n",
    "\"\"\", {\"book_id\": book_id})"
   ]
  },
  {
   "cell_type": "markdown",
   "id": "693971a4-a6ae-42ac-8a15-61d7ae461b05",
   "metadata": {},
   "source": [
    "# Задание 5\n",
    "Для тех книг, которые читатели брали больше одного раза, вывести, сколько раз брали каждую книгу,\n",
    "а также минимальную разницу в днях между датами, когда читатели ее брали.\n",
    "Столбцы назвать Название, Количество, Минимальный_период.\n",
    "Информацию отсортировать сначала по возрастанию минимального периода, а затем по названиям книг в алфавитном порядке\n",
    "\n",
    "Пояснение. Предположим, что одну и ту же книгу читатели взяли в следующие даты\n",
    "2020-10-12, 2020-11-05, 2020-11-15. Минимальный_период вычисляется так:\n",
    "    - сначала вычисляется разница между следующей и предыдущей датой\n",
    "      (в нашем случае между первой и второй датой прошло 24 дня, между второй и третьей 10 дней);\n",
    "    - затем находится минимальное значение (в нашем случае это 10).\n",
    "Примечание. Для решения задания № 5 использовать оконные функции."
   ]
  },
  {
   "cell_type": "code",
   "execution_count": 11,
   "id": "a914ce03-1a1b-48ea-b70c-18d5395c7b39",
   "metadata": {},
   "outputs": [
    {
     "name": "stdout",
     "output_type": "stream",
     "text": [
      "                    Название  Количество  Минимальный_период\n",
      "0   Записки о Шерлоке Холмсе           3                 1.0\n",
      "1          Трудно быть богом           3                 4.0\n",
      "2        Одноэтажная Америка           3                 6.0\n",
      "3         Мастер и Маргарита           2                 7.0\n",
      "4               Смерть поэта           3                 8.0\n",
      "5      Пуаро ведет следствие           3                 9.0\n",
      "6             Смерть на Ниле           3                 9.0\n",
      "7      Этюд в багровых тонах           3                14.0\n",
      "8             Собачье сердце           3                15.0\n",
      "9                      Поэмы           2                25.0\n",
      "10        Скрюченный домишко           2                28.0\n",
      "11      Убийства по алфавиту           2                29.0\n",
      "12            Затерянный мир           2                30.0\n",
      "13       Таинственный остров           3                32.0\n",
      "14                     Поэмы           2                38.0\n"
     ]
    }
   ],
   "source": [
    "query = \"\"\"\n",
    "WITH day_differences(book_id, day_diff)\n",
    "AS (\n",
    "    SELECT \n",
    "        book_id, \n",
    "        JULIANDAY(borrow_date) - JULIANDAY(LAG(borrow_date) OVER (PARTITION BY book_id ORDER BY borrow_date))\n",
    "    FROM book_reader\n",
    ")\n",
    "SELECT \n",
    "    title as Название, \n",
    "    COUNT(*) as Количество,\n",
    "    MIN(day_diff) as Минимальный_период\n",
    "FROM book\n",
    "JOIN day_differences USING(book_id)\n",
    "GROUP BY book_id\n",
    "HAVING Количество >= 2\n",
    "ORDER BY Минимальный_период ASC, Название ASC\n",
    "\"\"\"\n",
    "df = pd.read_sql(query, con)\n",
    "print(df)"
   ]
  }
 ],
 "metadata": {
  "kernelspec": {
   "display_name": "Python 3 (ipykernel)",
   "language": "python",
   "name": "python3"
  },
  "language_info": {
   "codemirror_mode": {
    "name": "ipython",
    "version": 3
   },
   "file_extension": ".py",
   "mimetype": "text/x-python",
   "name": "python",
   "nbconvert_exporter": "python",
   "pygments_lexer": "ipython3",
   "version": "3.11.0"
  }
 },
 "nbformat": 4,
 "nbformat_minor": 5
}
